{
 "cells": [
  {
   "cell_type": "code",
   "execution_count": 4,
   "metadata": {},
   "outputs": [],
   "source": [
    "import numpy as np\n",
    "import result\n",
    "all_result = result.Results()"
   ]
  },
  {
   "cell_type": "code",
   "execution_count": 5,
   "metadata": {},
   "outputs": [],
   "source": [
    "def cal_sum(val_dict, data_list):\n",
    "    sum_dict = {}\n",
    "    count_dict = {}\n",
    "    for i in val_dict.keys():\n",
    "        sum_dict[i] = 0\n",
    "        count_dict[i] = 0\n",
    "\n",
    "    for model in val_dict.keys():\n",
    "        key_list = list(set(val_dict[model].keys()) & set(data_list))\n",
    "        val_model_dict = {k: val_dict[model][k] for k in key_list}\n",
    "        sum_dict[model] = np.sum(list(val_model_dict.values()))\n",
    "        count_dict[model] = len(list(val_model_dict.values()))\n",
    "\n",
    "    return sum_dict, count_dict\n",
    "\n",
    "def cal_avg(sum_dict, count_dict):\n",
    "    avg_dict = {}\n",
    "    for key in sum_dict:\n",
    "        if count_dict[key] != 0:\n",
    "            avg_dict[key] = round(sum_dict[key]/count_dict[key], 2)\n",
    "    return avg_dict"
   ]
  },
  {
   "cell_type": "code",
   "execution_count": 6,
   "metadata": {},
   "outputs": [
    {
     "name": "stdout",
     "output_type": "stream",
     "text": [
      "Real Datasets: The average performance of all the experiments is:\n"
     ]
    },
    {
     "data": {
      "text/plain": [
       "({'NB3': 83.62,\n",
       "  'FAE': 84.28,\n",
       "  'OLVF': 85.44,\n",
       "  'OCDS': 78.0,\n",
       "  'OVFM': 73.44,\n",
       "  'DynFo': 79.11,\n",
       "  'ORF3V': 83.11,\n",
       "  'AuxNet': 70.5,\n",
       "  'AuxDrop': 72.41},\n",
       " {'NB3': 5,\n",
       "  'FAE': 5,\n",
       "  'OLVF': 5,\n",
       "  'OCDS': 5,\n",
       "  'OVFM': 5,\n",
       "  'DynFo': 5,\n",
       "  'ORF3V': 5,\n",
       "  'AuxNet': 5,\n",
       "  'AuxDrop': 5})"
      ]
     },
     "execution_count": 6,
     "metadata": {},
     "output_type": "execute_result"
    }
   ],
   "source": [
    "# Real Datasets\n",
    "\n",
    "data_list = all_result.data_real_list\n",
    "\n",
    "real_sum_dict, real_count_dict = cal_sum(all_result.real_mean, data_list)\n",
    "syn25_sum_dict, syn25_count_dict = cal_sum(all_result.synthetic_25_mean, data_list)\n",
    "syn50_sum_dict, syn50_count_dict = cal_sum(all_result.synthetic_50_mean,data_list)\n",
    "syn75_sum_dict, syn75_count_dict = cal_sum(all_result.synthetic_75_mean, data_list)\n",
    "\n",
    "sum_dict = {}\n",
    "count_dict = {}\n",
    "for model in all_result.model_list:\n",
    "    # if model not in ['AuxNet']:\n",
    "        sum_dict[model] = real_sum_dict[model] + syn25_sum_dict[model] + syn50_sum_dict[model] + syn75_sum_dict[model]\n",
    "        count_dict[model] = real_count_dict[model] + syn25_count_dict[model] + syn50_count_dict[model] + syn75_count_dict[model]\n",
    "    \n",
    "avg_dict = cal_avg(sum_dict, count_dict)\n",
    "\n",
    "print(\"Real Datasets: The average performance of all the experiments is:\")\n",
    "avg_dict, count_dict   "
   ]
  },
  {
   "cell_type": "code",
   "execution_count": 7,
   "metadata": {},
   "outputs": [
    {
     "name": "stdout",
     "output_type": "stream",
     "text": [
      "Synthetic Datasets: The average performance of all the experiments is:\n"
     ]
    },
    {
     "data": {
      "text/plain": [
       "({'NB3': 50.13,\n",
       "  'FAE': 50.5,\n",
       "  'OLVF': 57.34,\n",
       "  'OCDS': 53.37,\n",
       "  'OVFM': 64.34,\n",
       "  'DynFo': 62.46,\n",
       "  'ORF3V': 46.44,\n",
       "  'AuxNet': 53.39,\n",
       "  'AuxDrop': 57.95},\n",
       " {'NB3': 45,\n",
       "  'FAE': 45,\n",
       "  'OLVF': 45,\n",
       "  'OCDS': 45,\n",
       "  'OVFM': 45,\n",
       "  'DynFo': 45,\n",
       "  'ORF3V': 45,\n",
       "  'AuxNet': 45,\n",
       "  'AuxDrop': 45})"
      ]
     },
     "execution_count": 7,
     "metadata": {},
     "output_type": "execute_result"
    }
   ],
   "source": [
    "# Synthetic Datasets\n",
    "\n",
    "data_list = all_result.data_syn_list\n",
    "\n",
    "real_sum_dict, real_count_dict = cal_sum(all_result.real_mean, data_list)\n",
    "syn25_sum_dict, syn25_count_dict = cal_sum(all_result.synthetic_25_mean, data_list)\n",
    "syn50_sum_dict, syn50_count_dict = cal_sum(all_result.synthetic_50_mean,data_list)\n",
    "syn75_sum_dict, syn75_count_dict = cal_sum(all_result.synthetic_75_mean, data_list)\n",
    "\n",
    "sum_dict = {}\n",
    "count_dict = {}\n",
    "for model in all_result.model_list:\n",
    "    # if model not in ['AuxNet']:\n",
    "        sum_dict[model] = real_sum_dict[model] + syn25_sum_dict[model] + syn50_sum_dict[model] + syn75_sum_dict[model]\n",
    "        count_dict[model] = real_count_dict[model] + syn25_count_dict[model] + syn50_count_dict[model] + syn75_count_dict[model]\n",
    "    \n",
    "avg_dict = cal_avg(sum_dict, count_dict)\n",
    "\n",
    "print(\"Synthetic Datasets: The average performance of all the experiments is:\")\n",
    "avg_dict, count_dict   "
   ]
  },
  {
   "cell_type": "code",
   "execution_count": 8,
   "metadata": {},
   "outputs": [
    {
     "name": "stdout",
     "output_type": "stream",
     "text": [
      "Small Datasets: The average performance of all the experiments is:\n"
     ]
    },
    {
     "data": {
      "text/plain": [
       "({'NB3': 53.95,\n",
       "  'FAE': 54.47,\n",
       "  'OLVF': 61.16,\n",
       "  'OCDS': 56.49,\n",
       "  'OVFM': 66.8,\n",
       "  'DynFo': 68.3,\n",
       "  'ORF3V': 49.67,\n",
       "  'AuxNet': 56.25,\n",
       "  'AuxDrop': 59.33},\n",
       " {'NB3': 36,\n",
       "  'FAE': 36,\n",
       "  'OLVF': 36,\n",
       "  'OCDS': 36,\n",
       "  'OVFM': 36,\n",
       "  'DynFo': 36,\n",
       "  'ORF3V': 36,\n",
       "  'AuxNet': 36,\n",
       "  'AuxDrop': 36})"
      ]
     },
     "execution_count": 8,
     "metadata": {},
     "output_type": "execute_result"
    }
   ],
   "source": [
    "# Small Datasets\n",
    "\n",
    "data_list = all_result.data_small_list\n",
    "\n",
    "real_sum_dict, real_count_dict = cal_sum(all_result.real_mean, data_list)\n",
    "syn25_sum_dict, syn25_count_dict = cal_sum(all_result.synthetic_25_mean, data_list)\n",
    "syn50_sum_dict, syn50_count_dict = cal_sum(all_result.synthetic_50_mean,data_list)\n",
    "syn75_sum_dict, syn75_count_dict = cal_sum(all_result.synthetic_75_mean, data_list)\n",
    "\n",
    "sum_dict = {}\n",
    "count_dict = {}\n",
    "for model in all_result.model_list:\n",
    "    # if model not in ['AuxNet']:\n",
    "        sum_dict[model] = real_sum_dict[model] + syn25_sum_dict[model] + syn50_sum_dict[model] + syn75_sum_dict[model]\n",
    "        count_dict[model] = real_count_dict[model] + syn25_count_dict[model] + syn50_count_dict[model] + syn75_count_dict[model]\n",
    "    \n",
    "avg_dict = cal_avg(sum_dict, count_dict)\n",
    "avg_dict_small = avg_dict\n",
    "print(\"Small Datasets: The average performance of all the experiments is:\")\n",
    "avg_dict, count_dict   "
   ]
  },
  {
   "cell_type": "code",
   "execution_count": 9,
   "metadata": {},
   "outputs": [
    {
     "name": "stdout",
     "output_type": "stream",
     "text": [
      "Medium Datasets: The average performance of all the experiments is:\n"
     ]
    },
    {
     "data": {
      "text/plain": [
       "({'NB3': 54.52,\n",
       "  'FAE': 54.6,\n",
       "  'OLVF': 63.12,\n",
       "  'OCDS': 56.68,\n",
       "  'OVFM': 65.41,\n",
       "  'DynFo': 53.26,\n",
       "  'ORF3V': 53.18,\n",
       "  'AuxNet': 52.52,\n",
       "  'AuxDrop': 59.97},\n",
       " {'NB3': 7,\n",
       "  'FAE': 7,\n",
       "  'OLVF': 7,\n",
       "  'OCDS': 7,\n",
       "  'OVFM': 7,\n",
       "  'DynFo': 7,\n",
       "  'ORF3V': 7,\n",
       "  'AuxNet': 7,\n",
       "  'AuxDrop': 7})"
      ]
     },
     "execution_count": 9,
     "metadata": {},
     "output_type": "execute_result"
    }
   ],
   "source": [
    "# Medium Datasets\n",
    "\n",
    "data_list = all_result.data_medium_list\n",
    "\n",
    "real_sum_dict, real_count_dict = cal_sum(all_result.real_mean, data_list)\n",
    "syn25_sum_dict, syn25_count_dict = cal_sum(all_result.synthetic_25_mean, data_list)\n",
    "syn50_sum_dict, syn50_count_dict = cal_sum(all_result.synthetic_50_mean,data_list)\n",
    "syn75_sum_dict, syn75_count_dict = cal_sum(all_result.synthetic_75_mean, data_list)\n",
    "\n",
    "sum_dict = {}\n",
    "count_dict = {}\n",
    "for model in all_result.model_list:\n",
    "    # if model not in ['AuxNet']:\n",
    "        sum_dict[model] = real_sum_dict[model] + syn25_sum_dict[model] + syn50_sum_dict[model] + syn75_sum_dict[model]\n",
    "        count_dict[model] = real_count_dict[model] + syn25_count_dict[model] + syn50_count_dict[model] + syn75_count_dict[model]\n",
    "    \n",
    "avg_dict = cal_avg(sum_dict, count_dict)\n",
    "avg_dict_medium = avg_dict\n",
    "print(\"Medium Datasets: The average performance of all the experiments is:\")\n",
    "avg_dict, count_dict   "
   ]
  },
  {
   "cell_type": "code",
   "execution_count": 10,
   "metadata": {},
   "outputs": [
    {
     "name": "stdout",
     "output_type": "stream",
     "text": [
      "Large Datasets: The average performance of all the experiments is:\n"
     ]
    },
    {
     "data": {
      "text/plain": [
       "({'NB3': 50.0,\n",
       "  'FAE': 50.12,\n",
       "  'OLVF': 52.03,\n",
       "  'OCDS': 51.61,\n",
       "  'OVFM': 57.09,\n",
       "  'DynFo': 53.49,\n",
       "  'ORF3V': 49.24,\n",
       "  'AuxNet': 51.72,\n",
       "  'AuxDrop': 59.16},\n",
       " {'NB3': 7,\n",
       "  'FAE': 7,\n",
       "  'OLVF': 7,\n",
       "  'OCDS': 7,\n",
       "  'OVFM': 7,\n",
       "  'DynFo': 7,\n",
       "  'ORF3V': 7,\n",
       "  'AuxNet': 7,\n",
       "  'AuxDrop': 7})"
      ]
     },
     "execution_count": 10,
     "metadata": {},
     "output_type": "execute_result"
    }
   ],
   "source": [
    "# Large Datasets\n",
    "\n",
    "data_list = all_result.data_large_list\n",
    "\n",
    "real_sum_dict, real_count_dict = cal_sum(all_result.real_mean, data_list)\n",
    "syn25_sum_dict, syn25_count_dict = cal_sum(all_result.synthetic_25_mean, data_list)\n",
    "syn50_sum_dict, syn50_count_dict = cal_sum(all_result.synthetic_50_mean,data_list)\n",
    "syn75_sum_dict, syn75_count_dict = cal_sum(all_result.synthetic_75_mean, data_list)\n",
    "\n",
    "sum_dict = {}\n",
    "count_dict = {}\n",
    "for model in all_result.model_list:\n",
    "    # if model not in ['AuxNet']:\n",
    "        sum_dict[model] = real_sum_dict[model] + syn25_sum_dict[model] + syn50_sum_dict[model] + syn75_sum_dict[model]\n",
    "        count_dict[model] = real_count_dict[model] + syn25_count_dict[model] + syn50_count_dict[model] + syn75_count_dict[model]\n",
    "    \n",
    "avg_dict = cal_avg(sum_dict, count_dict)\n",
    "avg_dict_large = avg_dict\n",
    "print(\"Large Datasets: The average performance of all the experiments is:\")\n",
    "avg_dict, count_dict   "
   ]
  },
  {
   "cell_type": "code",
   "execution_count": 11,
   "metadata": {},
   "outputs": [
    {
     "name": "stdout",
     "output_type": "stream",
     "text": [
      "Average performance of all models\n",
      "52.82  &  53.06  &  58.77  &  54.93  &  63.1  &  58.35  &  50.7  &  53.5  &  59.49  &  "
     ]
    },
    {
     "data": {
      "text/plain": [
       "{'NB3': 52.82,\n",
       " 'FAE': 53.06,\n",
       " 'OLVF': 58.77,\n",
       " 'OCDS': 54.93,\n",
       " 'OVFM': 63.1,\n",
       " 'DynFo': 58.35,\n",
       " 'ORF3V': 50.7,\n",
       " 'AuxNet': 53.5,\n",
       " 'AuxDrop': 59.49}"
      ]
     },
     "execution_count": 11,
     "metadata": {},
     "output_type": "execute_result"
    }
   ],
   "source": [
    "# Average:\n",
    "avg_dict = {} \n",
    "for key in avg_dict_small.keys():\n",
    "    avg_dict[key] = np.round((avg_dict_small[key] + avg_dict_medium[key] + avg_dict_large[key])/3, 2)\n",
    "print(\"Average performance of all models\")\n",
    "for key in avg_dict.keys():\n",
    "    print(avg_dict[key], \" & \", end =\" \")\n",
    "avg_dict"
   ]
  }
 ],
 "metadata": {
  "kernelspec": {
   "display_name": "haphazardreview_env1",
   "language": "python",
   "name": "python3"
  },
  "language_info": {
   "codemirror_mode": {
    "name": "ipython",
    "version": 3
   },
   "file_extension": ".py",
   "mimetype": "text/x-python",
   "name": "python",
   "nbconvert_exporter": "python",
   "pygments_lexer": "ipython3",
   "version": "3.11.5"
  }
 },
 "nbformat": 4,
 "nbformat_minor": 2
}
