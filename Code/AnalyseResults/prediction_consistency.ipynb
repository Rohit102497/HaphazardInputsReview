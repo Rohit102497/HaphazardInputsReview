{
 "cells": [
  {
   "cell_type": "code",
   "execution_count": 1,
   "metadata": {},
   "outputs": [],
   "source": [
    "import numpy as np\n",
    "import result\n",
    "all_result = result.Results()"
   ]
  },
  {
   "cell_type": "code",
   "execution_count": 2,
   "metadata": {},
   "outputs": [],
   "source": [
    "def cal_sum(val_dict, data_list):\n",
    "    sum_dict = {}\n",
    "    count_dict = {}\n",
    "    for i in val_dict.keys():\n",
    "        sum_dict[i] = 0\n",
    "        count_dict[i] = 0\n",
    "\n",
    "    for model in val_dict.keys():\n",
    "        key_list = list(set(val_dict[model].keys()) & set(data_list))\n",
    "        val_model_dict = {k: val_dict[model][k] for k in key_list}\n",
    "        sum_dict[model] = np.sum(list(val_model_dict.values()))\n",
    "        count_dict[model] = len(list(val_model_dict.values()))\n",
    "\n",
    "    return sum_dict, count_dict\n",
    "\n",
    "def cal_avg(sum_dict, count_dict):\n",
    "    avg_dict = {}\n",
    "    for key in sum_dict:\n",
    "        if count_dict[key] != 0:\n",
    "            avg_dict[key] = round(sum_dict[key]/count_dict[key], 2)\n",
    "    return avg_dict"
   ]
  },
  {
   "cell_type": "code",
   "execution_count": 3,
   "metadata": {},
   "outputs": [
    {
     "name": "stdout",
     "output_type": "stream",
     "text": [
      "Real Datasets: The average standard deviation of all the experiments is:\n"
     ]
    },
    {
     "data": {
      "text/plain": [
       "({'NB3': 0.0,\n",
       "  'FAE': 0.0,\n",
       "  'OLVF': 0.0,\n",
       "  'OCDS': 0.11,\n",
       "  'OVFM': 2.24,\n",
       "  'DynFo': 0.36,\n",
       "  'ORF3V': 0.12,\n",
       "  'AuxNet': 1.28,\n",
       "  'AuxDrop': 1.64},\n",
       " {'NB3': 5,\n",
       "  'FAE': 5,\n",
       "  'OLVF': 5,\n",
       "  'OCDS': 5,\n",
       "  'OVFM': 4,\n",
       "  'DynFo': 5,\n",
       "  'ORF3V': 5,\n",
       "  'AuxNet': 3,\n",
       "  'AuxDrop': 5})"
      ]
     },
     "execution_count": 3,
     "metadata": {},
     "output_type": "execute_result"
    }
   ],
   "source": [
    "# Real Datasets\n",
    "\n",
    "data_list = all_result.data_real_list\n",
    "\n",
    "real_sum_dict, real_count_dict = cal_sum(all_result.real_std, data_list)\n",
    "syn25_sum_dict, syn25_count_dict = cal_sum(all_result.synthetic_25_std, data_list)\n",
    "syn50_sum_dict, syn50_count_dict = cal_sum(all_result.synthetic_50_std,data_list)\n",
    "syn75_sum_dict, syn75_count_dict = cal_sum(all_result.synthetic_75_std, data_list)\n",
    "\n",
    "sum_dict = {}\n",
    "count_dict = {}\n",
    "for model in all_result.model_list:\n",
    "    # if model not in ['AuxNet']:\n",
    "        sum_dict[model] = real_sum_dict[model] + syn25_sum_dict[model] + syn50_sum_dict[model] + syn75_sum_dict[model]\n",
    "        count_dict[model] = real_count_dict[model] + syn25_count_dict[model] + syn50_count_dict[model] + syn75_count_dict[model]\n",
    "    \n",
    "avg_dict = cal_avg(sum_dict, count_dict)\n",
    "\n",
    "print(\"Real Datasets: The average standard deviation of all the experiments is:\")\n",
    "avg_dict, count_dict   "
   ]
  },
  {
   "cell_type": "code",
   "execution_count": 4,
   "metadata": {},
   "outputs": [
    {
     "name": "stdout",
     "output_type": "stream",
     "text": [
      "Synthetic Datasets: The average standard deviation of all the experiments is:\n"
     ]
    },
    {
     "data": {
      "text/plain": [
       "({'NB3': 0.0,\n",
       "  'FAE': 0.0,\n",
       "  'OLVF': 0.0,\n",
       "  'OCDS': 1.07,\n",
       "  'OVFM': 0.98,\n",
       "  'DynFo': 0.43,\n",
       "  'ORF3V': 0.52,\n",
       "  'AuxNet': 1.2,\n",
       "  'AuxDrop': 0.99},\n",
       " {'NB3': 45,\n",
       "  'FAE': 45,\n",
       "  'OLVF': 45,\n",
       "  'OCDS': 45,\n",
       "  'OVFM': 45,\n",
       "  'DynFo': 42,\n",
       "  'ORF3V': 45,\n",
       "  'AuxNet': 44,\n",
       "  'AuxDrop': 45})"
      ]
     },
     "execution_count": 4,
     "metadata": {},
     "output_type": "execute_result"
    }
   ],
   "source": [
    "# Synthetic Datasets\n",
    "\n",
    "data_list = all_result.data_syn_list\n",
    "\n",
    "real_sum_dict, real_count_dict = cal_sum(all_result.real_std, data_list)\n",
    "syn25_sum_dict, syn25_count_dict = cal_sum(all_result.synthetic_25_std, data_list)\n",
    "syn50_sum_dict, syn50_count_dict = cal_sum(all_result.synthetic_50_std,data_list)\n",
    "syn75_sum_dict, syn75_count_dict = cal_sum(all_result.synthetic_75_std, data_list)\n",
    "\n",
    "sum_dict = {}\n",
    "count_dict = {}\n",
    "for model in all_result.model_list:\n",
    "    # if model not in ['AuxNet']:\n",
    "        sum_dict[model] = real_sum_dict[model] + syn25_sum_dict[model] + syn50_sum_dict[model] + syn75_sum_dict[model]\n",
    "        count_dict[model] = real_count_dict[model] + syn25_count_dict[model] + syn50_count_dict[model] + syn75_count_dict[model]\n",
    "    \n",
    "avg_dict = cal_avg(sum_dict, count_dict)\n",
    "\n",
    "print(\"Synthetic Datasets: The average standard deviation of all the experiments is:\")\n",
    "avg_dict, count_dict   "
   ]
  },
  {
   "cell_type": "code",
   "execution_count": 5,
   "metadata": {},
   "outputs": [
    {
     "name": "stdout",
     "output_type": "stream",
     "text": [
      "Small Datasets: The average standard deviation of all the experiments is:\n"
     ]
    },
    {
     "data": {
      "text/plain": [
       "({'NB3': 0.0,\n",
       "  'FAE': 0.0,\n",
       "  'OLVF': 0.0,\n",
       "  'OCDS': 1.19,\n",
       "  'OVFM': 1.45,\n",
       "  'DynFo': 0.53,\n",
       "  'ORF3V': 0.65,\n",
       "  'AuxNet': 1.14,\n",
       "  'AuxDrop': 1.32},\n",
       " {'NB3': 36,\n",
       "  'FAE': 36,\n",
       "  'OLVF': 36,\n",
       "  'OCDS': 36,\n",
       "  'OVFM': 36,\n",
       "  'DynFo': 36,\n",
       "  'ORF3V': 36,\n",
       "  'AuxNet': 35,\n",
       "  'AuxDrop': 36})"
      ]
     },
     "execution_count": 5,
     "metadata": {},
     "output_type": "execute_result"
    }
   ],
   "source": [
    "# Small Datasets\n",
    "\n",
    "data_list = all_result.data_small_list\n",
    "\n",
    "real_sum_dict, real_count_dict = cal_sum(all_result.real_std, data_list)\n",
    "syn25_sum_dict, syn25_count_dict = cal_sum(all_result.synthetic_25_std, data_list)\n",
    "syn50_sum_dict, syn50_count_dict = cal_sum(all_result.synthetic_50_std,data_list)\n",
    "syn75_sum_dict, syn75_count_dict = cal_sum(all_result.synthetic_75_std, data_list)\n",
    "\n",
    "sum_dict = {}\n",
    "count_dict = {}\n",
    "for model in all_result.model_list:\n",
    "    # if model not in ['AuxNet']:\n",
    "        sum_dict[model] = real_sum_dict[model] + syn25_sum_dict[model] + syn50_sum_dict[model] + syn75_sum_dict[model]\n",
    "        count_dict[model] = real_count_dict[model] + syn25_count_dict[model] + syn50_count_dict[model] + syn75_count_dict[model]\n",
    "    \n",
    "avg_dict = cal_avg(sum_dict, count_dict)\n",
    "avg_dict_small = avg_dict\n",
    "print(\"Small Datasets: The average standard deviation of all the experiments is:\")\n",
    "avg_dict, count_dict   "
   ]
  },
  {
   "cell_type": "code",
   "execution_count": 6,
   "metadata": {},
   "outputs": [
    {
     "name": "stdout",
     "output_type": "stream",
     "text": [
      "Medium Datasets: The average standard deviation of all the experiments is:\n"
     ]
    },
    {
     "data": {
      "text/plain": [
       "({'NB3': 0.0,\n",
       "  'FAE': 0.0,\n",
       "  'OLVF': 0.0,\n",
       "  'OCDS': 0.66,\n",
       "  'OVFM': 0.03,\n",
       "  'DynFo': 0.1,\n",
       "  'ORF3V': 0.07,\n",
       "  'AuxNet': 0.03,\n",
       "  'AuxDrop': 0.68},\n",
       " {'NB3': 7,\n",
       "  'FAE': 7,\n",
       "  'OLVF': 7,\n",
       "  'OCDS': 7,\n",
       "  'OVFM': 6,\n",
       "  'DynFo': 7,\n",
       "  'ORF3V': 7,\n",
       "  'AuxNet': 6,\n",
       "  'AuxDrop': 7})"
      ]
     },
     "execution_count": 6,
     "metadata": {},
     "output_type": "execute_result"
    }
   ],
   "source": [
    "# Medium Datasets\n",
    "\n",
    "data_list = all_result.data_medium_list\n",
    "\n",
    "real_sum_dict, real_count_dict = cal_sum(all_result.real_std, data_list)\n",
    "syn25_sum_dict, syn25_count_dict = cal_sum(all_result.synthetic_25_std, data_list)\n",
    "syn50_sum_dict, syn50_count_dict = cal_sum(all_result.synthetic_50_std,data_list)\n",
    "syn75_sum_dict, syn75_count_dict = cal_sum(all_result.synthetic_75_std, data_list)\n",
    "\n",
    "sum_dict = {}\n",
    "count_dict = {}\n",
    "for model in all_result.model_list:\n",
    "    # if model not in ['AuxNet']:\n",
    "        sum_dict[model] = real_sum_dict[model] + syn25_sum_dict[model] + syn50_sum_dict[model] + syn75_sum_dict[model]\n",
    "        count_dict[model] = real_count_dict[model] + syn25_count_dict[model] + syn50_count_dict[model] + syn75_count_dict[model]\n",
    "    \n",
    "avg_dict = cal_avg(sum_dict, count_dict)\n",
    "avg_dict_medium = avg_dict\n",
    "print(\"Medium Datasets: The average standard deviation of all the experiments is:\")\n",
    "avg_dict, count_dict   "
   ]
  },
  {
   "cell_type": "code",
   "execution_count": 7,
   "metadata": {},
   "outputs": [
    {
     "name": "stdout",
     "output_type": "stream",
     "text": [
      "Large Datasets: The average standard deviation of all the experiments is:\n"
     ]
    },
    {
     "data": {
      "text/plain": [
       "({'NB3': 0.0,\n",
       "  'FAE': 0.0,\n",
       "  'OLVF': 0.0,\n",
       "  'OCDS': 0.18,\n",
       "  'OVFM': 0.11,\n",
       "  'DynFo': 0.0,\n",
       "  'ORF3V': 0.02,\n",
       "  'AuxNet': 2.75,\n",
       "  'AuxDrop': 0.08},\n",
       " {'NB3': 7,\n",
       "  'FAE': 7,\n",
       "  'OLVF': 7,\n",
       "  'OCDS': 7,\n",
       "  'OVFM': 7,\n",
       "  'DynFo': 4,\n",
       "  'ORF3V': 7,\n",
       "  'AuxNet': 6,\n",
       "  'AuxDrop': 7})"
      ]
     },
     "execution_count": 7,
     "metadata": {},
     "output_type": "execute_result"
    }
   ],
   "source": [
    "# Large Datasets\n",
    "\n",
    "data_list = all_result.data_large_list\n",
    "\n",
    "real_sum_dict, real_count_dict = cal_sum(all_result.real_std, data_list)\n",
    "syn25_sum_dict, syn25_count_dict = cal_sum(all_result.synthetic_25_std, data_list)\n",
    "syn50_sum_dict, syn50_count_dict = cal_sum(all_result.synthetic_50_std,data_list)\n",
    "syn75_sum_dict, syn75_count_dict = cal_sum(all_result.synthetic_75_std, data_list)\n",
    "\n",
    "sum_dict = {}\n",
    "count_dict = {}\n",
    "for model in all_result.model_list:\n",
    "    # if model not in ['AuxNet']:\n",
    "        sum_dict[model] = real_sum_dict[model] + syn25_sum_dict[model] + syn50_sum_dict[model] + syn75_sum_dict[model]\n",
    "        count_dict[model] = real_count_dict[model] + syn25_count_dict[model] + syn50_count_dict[model] + syn75_count_dict[model]\n",
    "    \n",
    "avg_dict = cal_avg(sum_dict, count_dict)\n",
    "avg_dict_large = avg_dict\n",
    "print(\"Large Datasets: The average standard deviation of all the experiments is:\")\n",
    "avg_dict, count_dict   "
   ]
  },
  {
   "cell_type": "code",
   "execution_count": 8,
   "metadata": {},
   "outputs": [
    {
     "name": "stdout",
     "output_type": "stream",
     "text": [
      "ALL Datasets: The average standard deviation of all the experiments is:\n"
     ]
    },
    {
     "data": {
      "text/plain": [
       "({'NB3': 0.0,\n",
       "  'FAE': 0.0,\n",
       "  'OLVF': 0.0,\n",
       "  'OCDS': 0.98,\n",
       "  'OVFM': 1.09,\n",
       "  'DynFo': 0.43,\n",
       "  'ORF3V': 0.48,\n",
       "  'AuxNet': 1.2,\n",
       "  'AuxDrop': 1.06},\n",
       " {'NB3': 50,\n",
       "  'FAE': 50,\n",
       "  'OLVF': 50,\n",
       "  'OCDS': 50,\n",
       "  'OVFM': 49,\n",
       "  'DynFo': 47,\n",
       "  'ORF3V': 50,\n",
       "  'AuxNet': 47,\n",
       "  'AuxDrop': 50})"
      ]
     },
     "execution_count": 8,
     "metadata": {},
     "output_type": "execute_result"
    }
   ],
   "source": [
    "# All Datasets\n",
    "\n",
    "data_list = all_result.data_all_list\n",
    "\n",
    "real_sum_dict, real_count_dict = cal_sum(all_result.real_std, data_list)\n",
    "syn25_sum_dict, syn25_count_dict = cal_sum(all_result.synthetic_25_std, data_list)\n",
    "syn50_sum_dict, syn50_count_dict = cal_sum(all_result.synthetic_50_std,data_list)\n",
    "syn75_sum_dict, syn75_count_dict = cal_sum(all_result.synthetic_75_std, data_list)\n",
    "\n",
    "sum_dict = {}\n",
    "count_dict = {}\n",
    "for model in all_result.model_list:\n",
    "    # if model not in ['AuxNet']:\n",
    "        sum_dict[model] = real_sum_dict[model] + syn25_sum_dict[model] + syn50_sum_dict[model] + syn75_sum_dict[model]\n",
    "        count_dict[model] = real_count_dict[model] + syn25_count_dict[model] + syn50_count_dict[model] + syn75_count_dict[model]\n",
    "    \n",
    "avg_dict = cal_avg(sum_dict, count_dict)\n",
    "\n",
    "print(\"ALL Datasets: The average standard deviation of all the experiments is:\")\n",
    "avg_dict, count_dict   "
   ]
  },
  {
   "cell_type": "code",
   "execution_count": 9,
   "metadata": {},
   "outputs": [
    {
     "name": "stdout",
     "output_type": "stream",
     "text": [
      "Average standard deviation of all models\n",
      "0.0  &  0.0  &  0.0  &  0.68  &  0.53  &  0.21  &  0.25  &  1.31  &  0.69  &  "
     ]
    },
    {
     "data": {
      "text/plain": [
       "{'NB3': 0.0,\n",
       " 'FAE': 0.0,\n",
       " 'OLVF': 0.0,\n",
       " 'OCDS': 0.68,\n",
       " 'OVFM': 0.53,\n",
       " 'DynFo': 0.21,\n",
       " 'ORF3V': 0.25,\n",
       " 'AuxNet': 1.31,\n",
       " 'AuxDrop': 0.69}"
      ]
     },
     "execution_count": 9,
     "metadata": {},
     "output_type": "execute_result"
    }
   ],
   "source": [
    "# Average:\n",
    "avg_dict = {} \n",
    "for key in avg_dict_small.keys():\n",
    "    avg_dict[key] = np.round((avg_dict_small[key] + avg_dict_medium[key] + avg_dict_large[key])/3, 2)\n",
    "print(\"Average standard deviation of all models\")\n",
    "for key in avg_dict.keys():\n",
    "    print(avg_dict[key], \" & \", end =\" \")\n",
    "avg_dict"
   ]
  }
 ],
 "metadata": {
  "kernelspec": {
   "display_name": "haphazardreview_env1",
   "language": "python",
   "name": "python3"
  },
  "language_info": {
   "codemirror_mode": {
    "name": "ipython",
    "version": 3
   },
   "file_extension": ".py",
   "mimetype": "text/x-python",
   "name": "python",
   "nbconvert_exporter": "python",
   "pygments_lexer": "ipython3",
   "version": "3.9.12"
  }
 },
 "nbformat": 4,
 "nbformat_minor": 2
}
