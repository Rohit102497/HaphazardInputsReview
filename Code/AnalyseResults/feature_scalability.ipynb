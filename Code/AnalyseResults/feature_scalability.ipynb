{
 "cells": [
  {
   "cell_type": "code",
   "execution_count": 1,
   "metadata": {},
   "outputs": [],
   "source": [
    "import numpy as np"
   ]
  },
  {
   "cell_type": "code",
   "execution_count": 2,
   "metadata": {},
   "outputs": [],
   "source": [
    "SUSY = {\n",
    "  'NB3': 75.86,\n",
    "  'FAE': 10731.91,\n",
    "  'OLVF': 135.96,\n",
    "  'OCDS': 255.58,\n",
    "  'OVFM': 4210.01,\n",
    "  'DynFo': 343724.64,\n",
    "  'ORF3V': 23928.85,\n",
    "  'AuxNet': 19612.72, \n",
    "  'AuxDrop': 6054.62\n",
    "}\n",
    "\n",
    "HIGGS = {\n",
    "  'NB3': 166.78,\n",
    "  'FAE': 25253.06,\n",
    "  'OLVF': 146.08,\n",
    "  'OCDS': 292.24,\n",
    "  'OVFM': 10342.77,\n",
    "  'DynFo': 1788308.41,\n",
    "  'ORF3V': 42623.97,\n",
    "  'AuxNet': 44123.61,\n",
    "  'AuxDrop': 6039.45\n",
    "}"
   ]
  },
  {
   "cell_type": "code",
   "execution_count": 3,
   "metadata": {},
   "outputs": [
    {
     "name": "stdout",
     "output_type": "stream",
     "text": [
      "2.2  &  2.35  &  1.07  &  1.14  &  2.46  &  5.2  &  1.78  &  2.25  &  1.0  &  "
     ]
    },
    {
     "data": {
      "text/plain": [
       "{'NB3': 2.2,\n",
       " 'FAE': 2.35,\n",
       " 'OLVF': 1.07,\n",
       " 'OCDS': 1.14,\n",
       " 'OVFM': 2.46,\n",
       " 'DynFo': 5.2,\n",
       " 'ORF3V': 1.78,\n",
       " 'AuxNet': 2.25,\n",
       " 'AuxDrop': 1.0}"
      ]
     },
     "execution_count": 3,
     "metadata": {},
     "output_type": "execute_result"
    }
   ],
   "source": [
    "feat_scal = {}\n",
    "for key in SUSY.keys():\n",
    "    feat_scal[key] = np.round(HIGGS[key]/SUSY[key], 2)\n",
    "\n",
    "for key in feat_scal.keys():\n",
    "    print(feat_scal[key], \" & \", end =\" \")\n",
    "feat_scal"
   ]
  }
 ],
 "metadata": {
  "kernelspec": {
   "display_name": "haphazardreview_env1",
   "language": "python",
   "name": "python3"
  },
  "language_info": {
   "codemirror_mode": {
    "name": "ipython",
    "version": 3
   },
   "file_extension": ".py",
   "mimetype": "text/x-python",
   "name": "python",
   "nbconvert_exporter": "python",
   "pygments_lexer": "ipython3",
   "version": "3.9.12"
  }
 },
 "nbformat": 4,
 "nbformat_minor": 2
}
