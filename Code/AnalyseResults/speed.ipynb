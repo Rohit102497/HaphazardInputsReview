{
 "cells": [
  {
   "cell_type": "code",
   "execution_count": 1,
   "metadata": {},
   "outputs": [],
   "source": [
    "import numpy as np\n",
    "import result\n",
    "all_result = result.Results()"
   ]
  },
  {
   "cell_type": "code",
   "execution_count": 2,
   "metadata": {},
   "outputs": [],
   "source": [
    "def cal_sum(val_dict, data_list):\n",
    "    sum_dict = {}\n",
    "    count_dict = {}\n",
    "    for i in val_dict.keys():\n",
    "        sum_dict[i] = 0\n",
    "        count_dict[i] = 0\n",
    "\n",
    "    for model in val_dict.keys():\n",
    "        key_list = list(set(val_dict[model].keys()) & set(data_list))\n",
    "        val_model_dict = {k: val_dict[model][k] for k in key_list}\n",
    "        sum_dict[model] = np.sum(list(val_model_dict.values()))\n",
    "        count_dict[model] = len(list(val_model_dict.values()))\n",
    "\n",
    "    return sum_dict, count_dict\n",
    "\n",
    "def cal_avg(sum_dict, count_dict):\n",
    "    avg_dict = {}\n",
    "    for key in sum_dict:\n",
    "        if count_dict[key] != 0:\n",
    "            avg_dict[key] = round(sum_dict[key]/count_dict[key], 2)\n",
    "    return avg_dict"
   ]
  },
  {
   "cell_type": "code",
   "execution_count": 3,
   "metadata": {},
   "outputs": [
    {
     "name": "stdout",
     "output_type": "stream",
     "text": [
      "Real Datasets: The average time of all the experiments is:\n",
      "312.21  &  8558.78  &  8.83  &  11351.77  &  34451.37  &  1375.17  &  1013.76  &  13115.33  &  "
     ]
    },
    {
     "data": {
      "text/plain": [
       "({'NB3': 312.21,\n",
       "  'FAE': 8558.78,\n",
       "  'OLVF': 8.83,\n",
       "  'OCDS': 11351.77,\n",
       "  'OVFM': 34451.37,\n",
       "  'DynFo': 1375.17,\n",
       "  'ORF3V': 1013.76,\n",
       "  'AuxDrop': 13115.33},\n",
       " {'NB3': 5,\n",
       "  'FAE': 5,\n",
       "  'OLVF': 5,\n",
       "  'OCDS': 5,\n",
       "  'OVFM': 5,\n",
       "  'DynFo': 5,\n",
       "  'ORF3V': 5,\n",
       "  'AuxDrop': 5})"
      ]
     },
     "execution_count": 3,
     "metadata": {},
     "output_type": "execute_result"
    }
   ],
   "source": [
    "# Real Datasets\n",
    "\n",
    "data_list = all_result.data_real_list\n",
    "\n",
    "real_sum_dict, real_count_dict = cal_sum(all_result.real_time, data_list)\n",
    "syn25_sum_dict, syn25_count_dict = cal_sum(all_result.synthetic_25_time, data_list)\n",
    "syn50_sum_dict, syn50_count_dict = cal_sum(all_result.synthetic_50_time,data_list)\n",
    "syn75_sum_dict, syn75_count_dict = cal_sum(all_result.synthetic_75_time, data_list)\n",
    "\n",
    "sum_dict = {}\n",
    "count_dict = {}\n",
    "for model in all_result.model_list:\n",
    "    if model not in ['AuxNet']:\n",
    "        sum_dict[model] = real_sum_dict[model] + syn25_sum_dict[model] + syn50_sum_dict[model] + syn75_sum_dict[model]\n",
    "        count_dict[model] = real_count_dict[model] + syn25_count_dict[model] + syn50_count_dict[model] + syn75_count_dict[model]\n",
    "    \n",
    "avg_dict = cal_avg(sum_dict, count_dict)\n",
    "\n",
    "print(\"Real Datasets: The average time of all the experiments is:\")\n",
    "for key in avg_dict.keys():\n",
    "    print(avg_dict[key], \" & \", end =\" \")\n",
    "avg_dict, count_dict   "
   ]
  },
  {
   "cell_type": "code",
   "execution_count": 4,
   "metadata": {},
   "outputs": [
    {
     "name": "stdout",
     "output_type": "stream",
     "text": [
      "Synthetic Datasets: The average time of all the experiments is:\n",
      "16.69  &  13574.82  &  17.06  &  30.72  &  1048.26  &  123696.71  &  4624.24  &  823.14  &  "
     ]
    },
    {
     "data": {
      "text/plain": [
       "({'NB3': 16.69,\n",
       "  'FAE': 13574.82,\n",
       "  'OLVF': 17.06,\n",
       "  'OCDS': 30.72,\n",
       "  'OVFM': 1048.26,\n",
       "  'DynFo': 123696.71,\n",
       "  'ORF3V': 4624.24,\n",
       "  'AuxDrop': 823.14},\n",
       " {'NB3': 45,\n",
       "  'FAE': 45,\n",
       "  'OLVF': 45,\n",
       "  'OCDS': 45,\n",
       "  'OVFM': 45,\n",
       "  'DynFo': 45,\n",
       "  'ORF3V': 45,\n",
       "  'AuxDrop': 45})"
      ]
     },
     "execution_count": 4,
     "metadata": {},
     "output_type": "execute_result"
    }
   ],
   "source": [
    "# Synthetic Datasets\n",
    "\n",
    "data_list = all_result.data_syn_list\n",
    "\n",
    "real_sum_dict, real_count_dict = cal_sum(all_result.real_time, data_list)\n",
    "syn25_sum_dict, syn25_count_dict = cal_sum(all_result.synthetic_25_time, data_list)\n",
    "syn50_sum_dict, syn50_count_dict = cal_sum(all_result.synthetic_50_time,data_list)\n",
    "syn75_sum_dict, syn75_count_dict = cal_sum(all_result.synthetic_75_time, data_list)\n",
    "\n",
    "sum_dict = {}\n",
    "count_dict = {}\n",
    "for model in all_result.model_list:\n",
    "    if model not in ['AuxNet']:\n",
    "        sum_dict[model] = real_sum_dict[model] + syn25_sum_dict[model] + syn50_sum_dict[model] + syn75_sum_dict[model]\n",
    "        count_dict[model] = real_count_dict[model] + syn25_count_dict[model] + syn50_count_dict[model] + syn75_count_dict[model]\n",
    "    \n",
    "avg_dict = cal_avg(sum_dict, count_dict)\n",
    "\n",
    "print(\"Synthetic Datasets: The average time of all the experiments is:\")\n",
    "for key in avg_dict.keys():\n",
    "    print(avg_dict[key], \" & \", end =\" \")\n",
    "avg_dict, count_dict   "
   ]
  },
  {
   "cell_type": "code",
   "execution_count": 5,
   "metadata": {},
   "outputs": [
    {
     "name": "stdout",
     "output_type": "stream",
     "text": [
      "Small Datasets: The average time of all the experiments is:\n",
      "7.59  &  169.54  &  0.32  &  247.34  &  968.61  &  96.52  &  56.03  &  2278.47  &  522.94  &  "
     ]
    },
    {
     "data": {
      "text/plain": [
       "({'NB3': 7.59,\n",
       "  'FAE': 169.54,\n",
       "  'OLVF': 0.32,\n",
       "  'OCDS': 247.34,\n",
       "  'OVFM': 968.61,\n",
       "  'DynFo': 96.52,\n",
       "  'ORF3V': 56.03,\n",
       "  'AuxNet': 2278.47,\n",
       "  'AuxDrop': 522.94},\n",
       " {'NB3': 36,\n",
       "  'FAE': 36,\n",
       "  'OLVF': 36,\n",
       "  'OCDS': 36,\n",
       "  'OVFM': 36,\n",
       "  'DynFo': 36,\n",
       "  'ORF3V': 36,\n",
       "  'AuxNet': 36,\n",
       "  'AuxDrop': 36})"
      ]
     },
     "execution_count": 5,
     "metadata": {},
     "output_type": "execute_result"
    }
   ],
   "source": [
    "# Small Datasets\n",
    "\n",
    "data_list = all_result.data_small_list\n",
    "\n",
    "real_sum_dict, real_count_dict = cal_sum(all_result.real_time, data_list)\n",
    "syn25_sum_dict, syn25_count_dict = cal_sum(all_result.synthetic_25_time, data_list)\n",
    "syn50_sum_dict, syn50_count_dict = cal_sum(all_result.synthetic_50_time,data_list)\n",
    "syn75_sum_dict, syn75_count_dict = cal_sum(all_result.synthetic_75_time, data_list)\n",
    "\n",
    "sum_dict = {}\n",
    "count_dict = {}\n",
    "for model in all_result.model_list:\n",
    "    # if model not in ['AuxNet']:\n",
    "        sum_dict[model] = real_sum_dict[model] + syn25_sum_dict[model] + syn50_sum_dict[model] + syn75_sum_dict[model]\n",
    "        count_dict[model] = real_count_dict[model] + syn25_count_dict[model] + syn50_count_dict[model] + syn75_count_dict[model]\n",
    "    \n",
    "avg_dict = cal_avg(sum_dict, count_dict)\n",
    "avg_dict_small = avg_dict\n",
    "print(\"Small Datasets: The average time of all the experiments is:\")\n",
    "for key in avg_dict.keys():\n",
    "    print(avg_dict[key], \" & \", end =\" \")\n",
    "avg_dict, count_dict   "
   ]
  },
  {
   "cell_type": "code",
   "execution_count": 6,
   "metadata": {},
   "outputs": [
    {
     "name": "stdout",
     "output_type": "stream",
     "text": [
      "Medium Datasets: The average time of all the experiments is:\n",
      "190.92  &  629.1  &  6.72  &  6847.73  &  20594.3  &  2983.06  &  1037.31  &  8908.29  &  6860.4  &  "
     ]
    },
    {
     "data": {
      "text/plain": [
       "({'NB3': 190.92,\n",
       "  'FAE': 629.1,\n",
       "  'OLVF': 6.72,\n",
       "  'OCDS': 6847.73,\n",
       "  'OVFM': 20594.3,\n",
       "  'DynFo': 2983.06,\n",
       "  'ORF3V': 1037.31,\n",
       "  'AuxNet': 8908.29,\n",
       "  'AuxDrop': 6860.4},\n",
       " {'NB3': 7,\n",
       "  'FAE': 7,\n",
       "  'OLVF': 7,\n",
       "  'OCDS': 7,\n",
       "  'OVFM': 7,\n",
       "  'DynFo': 7,\n",
       "  'ORF3V': 7,\n",
       "  'AuxNet': 6,\n",
       "  'AuxDrop': 7})"
      ]
     },
     "execution_count": 6,
     "metadata": {},
     "output_type": "execute_result"
    }
   ],
   "source": [
    "# Medium Datasets\n",
    "\n",
    "data_list = all_result.data_medium_list\n",
    "\n",
    "real_sum_dict, real_count_dict = cal_sum(all_result.real_time, data_list)\n",
    "syn25_sum_dict, syn25_count_dict = cal_sum(all_result.synthetic_25_time, data_list)\n",
    "syn50_sum_dict, syn50_count_dict = cal_sum(all_result.synthetic_50_time,data_list)\n",
    "syn75_sum_dict, syn75_count_dict = cal_sum(all_result.synthetic_75_time, data_list)\n",
    "\n",
    "sum_dict = {}\n",
    "count_dict = {}\n",
    "for model in all_result.model_list:\n",
    "    # if model not in ['AuxNet']:\n",
    "        sum_dict[model] = real_sum_dict[model] + syn25_sum_dict[model] + syn50_sum_dict[model] + syn75_sum_dict[model]\n",
    "        count_dict[model] = real_count_dict[model] + syn25_count_dict[model] + syn50_count_dict[model] + syn75_count_dict[model]\n",
    "    \n",
    "avg_dict = cal_avg(sum_dict, count_dict)\n",
    "avg_dict_medium = avg_dict\n",
    "print(\"Medium Datasets: The average time of all the experiments is:\")\n",
    "for key in avg_dict.keys():\n",
    "    print(avg_dict[key], \" & \", end =\" \")\n",
    "avg_dict, count_dict   "
   ]
  },
  {
   "cell_type": "code",
   "execution_count": 7,
   "metadata": {},
   "outputs": [
    {
     "name": "stdout",
     "output_type": "stream",
     "text": [
      "Large Datasets: The average time of all the experiments is:\n",
      "100.3  &  91879.1  &  107.61  &  186.1  &  5771.24  &  792695.95  &  29125.89  &  31971.94  &  5109.91  &  "
     ]
    },
    {
     "data": {
      "text/plain": [
       "({'NB3': 100.3,\n",
       "  'FAE': 91879.1,\n",
       "  'OLVF': 107.61,\n",
       "  'OCDS': 186.1,\n",
       "  'OVFM': 5771.24,\n",
       "  'DynFo': 792695.95,\n",
       "  'ORF3V': 29125.89,\n",
       "  'AuxNet': 31971.94,\n",
       "  'AuxDrop': 5109.91},\n",
       " {'NB3': 7,\n",
       "  'FAE': 7,\n",
       "  'OLVF': 7,\n",
       "  'OCDS': 7,\n",
       "  'OVFM': 7,\n",
       "  'DynFo': 7,\n",
       "  'ORF3V': 7,\n",
       "  'AuxNet': 7,\n",
       "  'AuxDrop': 7})"
      ]
     },
     "execution_count": 7,
     "metadata": {},
     "output_type": "execute_result"
    }
   ],
   "source": [
    "# Large Datasets\n",
    "\n",
    "data_list = all_result.data_large_list\n",
    "\n",
    "real_sum_dict, real_count_dict = cal_sum(all_result.real_time, data_list)\n",
    "syn25_sum_dict, syn25_count_dict = cal_sum(all_result.synthetic_25_time, data_list)\n",
    "syn50_sum_dict, syn50_count_dict = cal_sum(all_result.synthetic_50_time,data_list)\n",
    "syn75_sum_dict, syn75_count_dict = cal_sum(all_result.synthetic_75_time, data_list)\n",
    "\n",
    "sum_dict = {}\n",
    "count_dict = {}\n",
    "for model in all_result.model_list:\n",
    "    # if model not in ['AuxNet']:\n",
    "        sum_dict[model] = real_sum_dict[model] + syn25_sum_dict[model] + syn50_sum_dict[model] + syn75_sum_dict[model]\n",
    "        count_dict[model] = real_count_dict[model] + syn25_count_dict[model] + syn50_count_dict[model] + syn75_count_dict[model]\n",
    "    \n",
    "avg_dict = cal_avg(sum_dict, count_dict)\n",
    "avg_dict_large = avg_dict\n",
    "print(\"Large Datasets: The average time of all the experiments is:\")\n",
    "for key in avg_dict.keys():\n",
    "    print(avg_dict[key], \" & \", end =\" \")\n",
    "avg_dict, count_dict   "
   ]
  },
  {
   "cell_type": "code",
   "execution_count": 9,
   "metadata": {},
   "outputs": [
    {
     "name": "stdout",
     "output_type": "stream",
     "text": [
      "Average speed of all models\n",
      "99.6  &  30892.58  &  38.22  &  2427.06  &  9111.38  &  265258.51  &  10073.08  &  14386.23  &  4164.42  &  "
     ]
    },
    {
     "data": {
      "text/plain": [
       "{'NB3': 99.6,\n",
       " 'FAE': 30892.58,\n",
       " 'OLVF': 38.22,\n",
       " 'OCDS': 2427.06,\n",
       " 'OVFM': 9111.38,\n",
       " 'DynFo': 265258.51,\n",
       " 'ORF3V': 10073.08,\n",
       " 'AuxNet': 14386.23,\n",
       " 'AuxDrop': 4164.42}"
      ]
     },
     "execution_count": 9,
     "metadata": {},
     "output_type": "execute_result"
    }
   ],
   "source": [
    "# Average:\n",
    "avg_dict = {} \n",
    "for key in avg_dict_small.keys():\n",
    "    avg_dict[key] = np.round((avg_dict_small[key] + avg_dict_medium[key] + avg_dict_large[key])/3, 2)\n",
    "print(\"Average speed of all models\")\n",
    "for key in avg_dict.keys():\n",
    "    print(avg_dict[key], \" & \", end =\" \")\n",
    "avg_dict"
   ]
  }
 ],
 "metadata": {
  "kernelspec": {
   "display_name": "haphazardreview_env1",
   "language": "python",
   "name": "python3"
  },
  "language_info": {
   "codemirror_mode": {
    "name": "ipython",
    "version": 3
   },
   "file_extension": ".py",
   "mimetype": "text/x-python",
   "name": "python",
   "nbconvert_exporter": "python",
   "pygments_lexer": "ipython3",
   "version": "3.9.12"
  }
 },
 "nbformat": 4,
 "nbformat_minor": 2
}
