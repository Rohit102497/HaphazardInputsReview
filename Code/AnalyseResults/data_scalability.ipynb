{
 "cells": [
  {
   "cell_type": "code",
   "execution_count": 2,
   "metadata": {},
   "outputs": [],
   "source": [
    "import numpy as np"
   ]
  },
  {
   "cell_type": "code",
   "execution_count": 3,
   "metadata": {},
   "outputs": [],
   "source": [
    "per_small = {'NB3': 53.95,\n",
    "  'FAE': 54.47,\n",
    "  'OLVF': 61.16,\n",
    "  'OCDS': 56.49,\n",
    "  'OVFM': 66.8,\n",
    "  'DynFo': 68.3,\n",
    "  'ORF3V': 49.67,\n",
    "  'AuxNet' : 56.25,\n",
    "  'AuxDrop': 59.33}\n",
    "\n",
    "per_medium = {\n",
    "  'NB3': 54.52,\n",
    "  'FAE': 54.6,\n",
    "  'OLVF': 63.12,\n",
    "  'OCDS': 56.68,\n",
    "  'OVFM': 65.41,\n",
    "  'DynFo': 53.26,\n",
    "  'ORF3V': 53.18,\n",
    "  'AuxNet' : 52.52,\n",
    "  'AuxDrop': 59.97\n",
    "}\n",
    "\n",
    "per_large = {\n",
    "  'NB3': 50.0,\n",
    "  'FAE': 50.12,\n",
    "  'OLVF': 52.03,\n",
    "  'OCDS': 51.61,\n",
    "  'OVFM': 57.09,\n",
    "  'DynFo': 53.49,\n",
    "  'ORF3V': 49.24,\n",
    "  'AuxNet' : 51.72,\n",
    "  'AuxDrop': 59.16\n",
    "}"
   ]
  },
  {
   "cell_type": "code",
   "execution_count": 4,
   "metadata": {},
   "outputs": [
    {
     "name": "stdout",
     "output_type": "stream",
     "text": [
      "Data Scalability from Small to Medium\n"
     ]
    },
    {
     "data": {
      "text/plain": [
       "{'NB3': 1.06,\n",
       " 'FAE': 0.24,\n",
       " 'OLVF': 3.2,\n",
       " 'OCDS': 0.34,\n",
       " 'OVFM': -2.08,\n",
       " 'DynFo': -22.02,\n",
       " 'ORF3V': 7.07,\n",
       " 'AuxNet': -6.63,\n",
       " 'AuxDrop': 1.08}"
      ]
     },
     "execution_count": 4,
     "metadata": {},
     "output_type": "execute_result"
    }
   ],
   "source": [
    "per_s_to_m = {}\n",
    "per_m_to_l = {}\n",
    "\n",
    "for key in per_small.keys():\n",
    "    per_s_to_m[key] = round(((per_medium[key] - per_small[key])/per_small[key])*100, 2)\n",
    "    per_m_to_l[key] = round(((per_large[key] - per_medium[key])/per_medium[key])*100, 2)\n",
    "\n",
    "print(\"Data Scalability from Small to Medium\")\n",
    "per_s_to_m"
   ]
  },
  {
   "cell_type": "code",
   "execution_count": 5,
   "metadata": {},
   "outputs": [
    {
     "name": "stdout",
     "output_type": "stream",
     "text": [
      "Data Scalability from Medium to Large\n"
     ]
    },
    {
     "data": {
      "text/plain": [
       "{'NB3': -8.29,\n",
       " 'FAE': -8.21,\n",
       " 'OLVF': -17.57,\n",
       " 'OCDS': -8.94,\n",
       " 'OVFM': -12.72,\n",
       " 'DynFo': 0.43,\n",
       " 'ORF3V': -7.41,\n",
       " 'AuxNet': -1.52,\n",
       " 'AuxDrop': -1.35}"
      ]
     },
     "execution_count": 5,
     "metadata": {},
     "output_type": "execute_result"
    }
   ],
   "source": [
    "print(\"Data Scalability from Medium to Large\")\n",
    "per_m_to_l"
   ]
  },
  {
   "cell_type": "code",
   "execution_count": 6,
   "metadata": {},
   "outputs": [
    {
     "name": "stdout",
     "output_type": "stream",
     "text": [
      "0.02  &  0.01  &  0.01  &  0.01  &  0.0  &  0.0  &  0.11  &  0.0  &  0.38  &  "
     ]
    },
    {
     "data": {
      "text/plain": [
       "{'NB3': 0.02,\n",
       " 'FAE': 0.01,\n",
       " 'OLVF': 0.01,\n",
       " 'OCDS': 0.01,\n",
       " 'OVFM': 0.0,\n",
       " 'DynFo': 0.0,\n",
       " 'ORF3V': 0.11,\n",
       " 'AuxNet': 0.0,\n",
       " 'AuxDrop': 0.38}"
      ]
     },
     "execution_count": 6,
     "metadata": {},
     "output_type": "execute_result"
    }
   ],
   "source": [
    "power_factor = 2\n",
    "measure = {}\n",
    "for key in per_s_to_m.keys():\n",
    "    num = 0\n",
    "    Den = 0\n",
    "    if per_s_to_m[key] < 0:\n",
    "        Den += np.power(1 + abs(per_s_to_m[key]), power_factor)\n",
    "    else:\n",
    "        num += 1 + per_s_to_m[key]\n",
    "    if per_m_to_l[key] < 0:\n",
    "        Den += np.power(1 + abs(per_m_to_l[key]), power_factor)\n",
    "    else:\n",
    "        num += 1 + per_m_to_l[key]\n",
    "    measure[key] = np.round(num/Den, 2)\n",
    "\n",
    "\n",
    "for key in measure.keys():\n",
    "    print(measure[key], \" & \", end =\" \")\n",
    "measure"
   ]
  }
 ],
 "metadata": {
  "kernelspec": {
   "display_name": "haphazardreview_env1",
   "language": "python",
   "name": "python3"
  },
  "language_info": {
   "codemirror_mode": {
    "name": "ipython",
    "version": 3
   },
   "file_extension": ".py",
   "mimetype": "text/x-python",
   "name": "python",
   "nbconvert_exporter": "python",
   "pygments_lexer": "ipython3",
   "version": "3.11.5"
  }
 },
 "nbformat": 4,
 "nbformat_minor": 2
}
